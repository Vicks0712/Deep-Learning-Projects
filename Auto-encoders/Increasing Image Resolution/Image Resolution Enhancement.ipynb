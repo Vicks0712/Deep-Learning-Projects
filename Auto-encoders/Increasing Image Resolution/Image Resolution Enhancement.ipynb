{
 "cells": [
  {
   "attachments": {},
   "cell_type": "markdown",
   "id": "8e3c25c3",
   "metadata": {},
   "source": [
    "# Increasing Image Resolution with Autoencoders"
   ]
  },
  {
   "attachments": {},
   "cell_type": "markdown",
   "id": "44332713",
   "metadata": {},
   "source": [
    "### Context"
   ]
  },
  {
   "attachments": {},
   "cell_type": "markdown",
   "id": "b0a96fa8",
   "metadata": {},
   "source": [
    "**Image scaling autoencoder**\n",
    "\n",
    "An autoencoder is a type of neural network used to learn a compact representation of a data set, such as images. In the case of using an autoencoder to increase the resolution of an image, an autoencoder architecture known as **image scaling** autoencoder can be used.\n",
    "\n",
    "These models take a low-resolution image as input and learn to reconstruct a higher-resolution version of the same image. This is achieved using encoding and decoding layers in the neural network, where the encoding layer learns to represent the low resolution image compactly and the decoding layer learns to reconstruct the higher resolution image from this compact representation."
   ]
  },
  {
   "attachments": {},
   "cell_type": "markdown",
   "id": "9d8f6d47",
   "metadata": {},
   "source": [
    "### Libreries"
   ]
  },
  {
   "cell_type": "code",
   "execution_count": 1,
   "id": "b96cceb2",
   "metadata": {},
   "outputs": [],
   "source": [
    "import torch\n",
    "import torch.nn as nn\n",
    "import torch.nn.functional as F\n",
    "import torch.optim as optim\n",
    "from torchvision import datasets, transforms\n",
    "import matplotlib.pyplot as plt\n",
    "import numpy as np"
   ]
  },
  {
   "attachments": {},
   "cell_type": "markdown",
   "id": "755e90e6",
   "metadata": {},
   "source": [
    "### Dataloader"
   ]
  },
  {
   "attachments": {},
   "cell_type": "markdown",
   "id": "40902626",
   "metadata": {},
   "source": [
    "The dataset that has been chosen for the development of this practice is the MNIST, due to its simplicity as a first approximation."
   ]
  },
  {
   "cell_type": "code",
   "execution_count": 2,
   "id": "c638f73c",
   "metadata": {},
   "outputs": [
    {
     "name": "stdout",
     "output_type": "stream",
     "text": [
      "Downloading http://yann.lecun.com/exdb/mnist/train-images-idx3-ubyte.gz\n",
      "Downloading http://yann.lecun.com/exdb/mnist/train-images-idx3-ubyte.gz to ./data\\MNIST\\raw\\train-images-idx3-ubyte.gz\n"
     ]
    },
    {
     "name": "stderr",
     "output_type": "stream",
     "text": [
      "100%|██████████| 9912422/9912422 [00:00<00:00, 16243748.26it/s]\n"
     ]
    },
    {
     "name": "stdout",
     "output_type": "stream",
     "text": [
      "Extracting ./data\\MNIST\\raw\\train-images-idx3-ubyte.gz to ./data\\MNIST\\raw\n",
      "\n",
      "Downloading http://yann.lecun.com/exdb/mnist/train-labels-idx1-ubyte.gz\n",
      "Downloading http://yann.lecun.com/exdb/mnist/train-labels-idx1-ubyte.gz to ./data\\MNIST\\raw\\train-labels-idx1-ubyte.gz\n"
     ]
    },
    {
     "name": "stderr",
     "output_type": "stream",
     "text": [
      "100%|██████████| 28881/28881 [00:00<00:00, 19191332.99it/s]"
     ]
    },
    {
     "name": "stdout",
     "output_type": "stream",
     "text": [
      "Extracting ./data\\MNIST\\raw\\train-labels-idx1-ubyte.gz to ./data\\MNIST\\raw\n",
      "\n",
      "Downloading http://yann.lecun.com/exdb/mnist/t10k-images-idx3-ubyte.gz\n"
     ]
    },
    {
     "name": "stderr",
     "output_type": "stream",
     "text": [
      "\n"
     ]
    },
    {
     "name": "stdout",
     "output_type": "stream",
     "text": [
      "Downloading http://yann.lecun.com/exdb/mnist/t10k-images-idx3-ubyte.gz to ./data\\MNIST\\raw\\t10k-images-idx3-ubyte.gz\n"
     ]
    },
    {
     "name": "stderr",
     "output_type": "stream",
     "text": [
      "100%|██████████| 1648877/1648877 [00:00<00:00, 10161447.60it/s]\n"
     ]
    },
    {
     "name": "stdout",
     "output_type": "stream",
     "text": [
      "Extracting ./data\\MNIST\\raw\\t10k-images-idx3-ubyte.gz to ./data\\MNIST\\raw\n",
      "\n",
      "Downloading http://yann.lecun.com/exdb/mnist/t10k-labels-idx1-ubyte.gz\n",
      "Downloading http://yann.lecun.com/exdb/mnist/t10k-labels-idx1-ubyte.gz to ./data\\MNIST\\raw\\t10k-labels-idx1-ubyte.gz\n"
     ]
    },
    {
     "name": "stderr",
     "output_type": "stream",
     "text": [
      "100%|██████████| 4542/4542 [00:00<?, ?it/s]"
     ]
    },
    {
     "name": "stdout",
     "output_type": "stream",
     "text": [
      "Extracting ./data\\MNIST\\raw\\t10k-labels-idx1-ubyte.gz to ./data\\MNIST\\raw\n",
      "\n"
     ]
    },
    {
     "name": "stderr",
     "output_type": "stream",
     "text": [
      "\n"
     ]
    }
   ],
   "source": [
    "transform = transforms.ToTensor()\n",
    "\n",
    "mnist_data = datasets.MNIST(root='./data', train=True, download=True, transform=transform)\n",
    "\n",
    "data_loader = torch.utils.data.DataLoader(dataset=mnist_data,\n",
    "                                          batch_size=64,\n",
    "                                          shuffle=True)\n",
    "\n",
    "mnist_data_valid = datasets.MNIST(root='./data', train=False, download=True, transform=transform)\n",
    "\n",
    "data_loader_valid = torch.utils.data.DataLoader(dataset=mnist_data_valid,\n",
    "                                          batch_size=64,\n",
    "                                          shuffle=True)   "
   ]
  },
  {
   "attachments": {},
   "cell_type": "markdown",
   "id": "0dbb0388",
   "metadata": {},
   "source": [
    "### Check which values the images fit between"
   ]
  },
  {
   "attachments": {},
   "cell_type": "markdown",
   "id": "65f213e1",
   "metadata": {},
   "source": [
    "To check that the data is in the expected range (normalized images) and that there are no outliers, the minimum and maximum value of the images are printed. The values must be between 0 and 1."
   ]
  },
  {
   "cell_type": "code",
   "execution_count": 3,
   "id": "4fa74658",
   "metadata": {},
   "outputs": [
    {
     "name": "stdout",
     "output_type": "stream",
     "text": [
      "tensor(0.) tensor(1.)\n"
     ]
    }
   ],
   "source": [
    "dataiter = iter(data_loader)\n",
    "images, labels = dataiter.next()\n",
    "print(torch.min(images), torch.max(images))"
   ]
  },
  {
   "attachments": {},
   "cell_type": "markdown",
   "id": "899119f2",
   "metadata": {},
   "source": [
    "### Model"
   ]
  },
  {
   "cell_type": "markdown",
   "id": "d653a69d",
   "metadata": {},
   "source": [
    "The auto-encoder neural network that will be used in practice is created and coded. This transforms 7 * 7 images into 28 * 28 images."
   ]
  },
  {
   "cell_type": "code",
   "execution_count": 8,
   "id": "645e6286",
   "metadata": {},
   "outputs": [],
   "source": [
    "class Autoencoder_7(nn.Module):\n",
    "    def __init__(self):\n",
    "        super().__init__()        \n",
    "        self.encoder = nn.Sequential(\n",
    "            nn.Conv2d(1, 8, 5, stride=2, padding=3),\n",
    "            nn.ReLU(),\n",
    "            nn.Conv2d(8, 16, 5, stride=2, padding=3), \n",
    "            nn.ReLU(),\n",
    "            nn.Conv2d(16, 32, 2),\n",
    "            nn.ReLU(),\n",
    "            nn.Conv2d(32, 64, 3)\n",
    "        )\n",
    "        \n",
    "        self.decoder = nn.Sequential(\n",
    "            nn.ConvTranspose2d(64, 32, 3),\n",
    "            nn.ReLU(),\n",
    "            nn.ConvTranspose2d(32, 16, 7),\n",
    "            nn.ReLU(),\n",
    "            nn.ConvTranspose2d(16, 8, 4, stride=2, padding=3, output_padding=1),\n",
    "            nn.ReLU(),\n",
    "            nn.ConvTranspose2d(8, 1, 5, stride=2, padding=3, output_padding=1),\n",
    "            nn.Sigmoid()\n",
    "        )\n",
    "\n",
    "    def forward(self, x):\n",
    "        encoded = self.encoder(x)\n",
    "        decoded = self.decoder(encoded)\n",
    "        return decoded"
   ]
  },
  {
   "cell_type": "markdown",
   "id": "492187a5",
   "metadata": {},
   "source": [
    "### Model hiper-parameters"
   ]
  },
  {
   "cell_type": "code",
   "execution_count": 9,
   "id": "84b813ac",
   "metadata": {},
   "outputs": [],
   "source": [
    "model = Autoencoder_7()\n",
    "\n",
    "criterion = nn.MSELoss()\n",
    "optimizer = torch.optim.Adam(model.parameters(),\n",
    "                             weight_decay=1e-5)"
   ]
  },
  {
   "cell_type": "markdown",
   "id": "0af29546",
   "metadata": {},
   "source": [
    "### Model training"
   ]
  },
  {
   "cell_type": "code",
   "execution_count": null,
   "metadata": {},
   "outputs": [],
   "source": [
    "num_epochs = 7\n",
    "outputs = []"
   ]
  },
  {
   "cell_type": "code",
   "execution_count": 10,
   "id": "7ef50dca",
   "metadata": {},
   "outputs": [
    {
     "name": "stdout",
     "output_type": "stream",
     "text": [
      "Epoch:1, Loss:0.0512\n",
      "Epoch:2, Loss:0.0286\n",
      "Epoch:3, Loss:0.0255\n",
      "Epoch:4, Loss:0.0231\n",
      "Epoch:5, Loss:0.0219\n",
      "Epoch:6, Loss:0.0221\n",
      "Epoch:7, Loss:0.0214\n"
     ]
    }
   ],
   "source": [
    "for epoch in range(num_epochs):\n",
    "    for (img, tag) in data_loader:\n",
    "        transform = transforms.Resize(size = (7,7))\n",
    "        img_reshape = transform(img)\n",
    "        recon = model(img_reshape)\n",
    "        loss = criterion(recon, img)\n",
    "        \n",
    "        optimizer.zero_grad()\n",
    "        loss.backward()\n",
    "        optimizer.step()\n",
    "\n",
    "    print(f'Epoch:{epoch+1}, Loss:{loss.item():.4f}')\n",
    "    outputs.append((epoch, img, recon))"
   ]
  },
  {
   "cell_type": "markdown",
   "id": "8e727baa",
   "metadata": {},
   "source": [
    "### Showing the results"
   ]
  },
  {
   "cell_type": "markdown",
   "metadata": {},
   "source": [
    "To check if the network has managed to learn the relevant patterns from the images, they will be displayed and a comparison will be made between the results and the real data."
   ]
  },
  {
   "cell_type": "code",
   "execution_count": 11,
   "id": "351580f8",
   "metadata": {},
   "outputs": [
    {
     "data": {
      "image/png": "[encoded data removed]",
      "text/plain": [
       "<Figure size 900x200 with 18 Axes>"
      ]
     },
     "metadata": {},
     "output_type": "display_data"
    }
   ],
   "source": [
    "plt.figure(figsize=(9, 2))\n",
    "plt.gray()\n",
    "img_reshape = transform(outputs[num_epochs-1][1])\n",
    "imgs = img_reshape.detach().numpy()\n",
    "recon = outputs[num_epochs-1][2].detach().numpy()\n",
    "    \n",
    "for i, item in enumerate(imgs):\n",
    "    if i >= 9: break\n",
    "    plt.subplot(2, 9, i+1)\n",
    "    plt.imshow(item[0])\n",
    "            \n",
    "for i, item in enumerate(recon):\n",
    "    if i >= 9: break\n",
    "    plt.subplot(2, 9, 9+i+1) \n",
    "    plt.imshow(item[0])"
   ]
  },
  {
   "cell_type": "markdown",
   "metadata": {},
   "source": [
    "### Advantages\n",
    "\n",
    "1. It allows obtaining higher resolution images from low resolution images without having to resort to pixel interpolation techniques, which can improve the quality of the final image.\n",
    "2. By using an autoencoder to learn a compact representation of the image, better quality results can be obtained than with other image scaling methods."
   ]
  }
 ],
 "metadata": {
  "kernelspec": {
   "display_name": "Python 3.10.7 64-bit",
   "language": "python",
   "name": "python3"
  },
  "language_info": {
   "codemirror_mode": {
    "name": "ipython",
    "version": 3
   },
   "file_extension": ".py",
   "mimetype": "text/x-python",
   "name": "python",
   "nbconvert_exporter": "python",
   "pygments_lexer": "ipython3",
   "version": "3.10.7"
  },
  "vscode": {
   "interpreter": {
    "hash": "253cd15c32ffb283b0558be93b097dc27093fe6b891853f454fa08d2f15e4a97"
   }
  }
 },
 "nbformat": 4,
 "nbformat_minor": 5
}
